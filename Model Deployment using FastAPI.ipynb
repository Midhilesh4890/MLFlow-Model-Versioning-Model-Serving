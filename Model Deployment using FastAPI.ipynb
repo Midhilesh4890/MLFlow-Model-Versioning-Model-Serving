{
 "cells": [
  {
   "cell_type": "code",
   "execution_count": null,
   "id": "c8185d5b",
   "metadata": {},
   "outputs": [],
   "source": [
    "def load_data(url):\n",
    "    import pandas as pd\n",
    "    # Load dataset\n",
    "    data = pd.read_csv(filepath_or_buffer=url,sep=',')\n",
    "    return data"
   ]
  },
  {
   "cell_type": "code",
   "execution_count": null,
   "id": "75479a21",
   "metadata": {},
   "outputs": [],
   "source": [
    "def train_test_split(final_data,target_column):\n",
    "    from sklearn.model_selection import train_test_split\n",
    "    X = final_data.loc[:, final_data.columns != target_column]\n",
    "    y = final_data.loc[:, final_data.columns == target_column]\n",
    "    \n",
    "    X_train, X_test, y_train, y_test = train_test_split(X, y, test_size=0.3,stratify = y, random_state=47)\n",
    "    return X_train, X_test, y_train, y_test"
   ]
  },
  {
   "cell_type": "code",
   "execution_count": null,
   "id": "5825d668",
   "metadata": {},
   "outputs": [],
   "source": [
    "def training_basic_classifier(X_train,y_train):\n",
    "    from sklearn.linear_model import LogisticRegression\n",
    "    classifier = LogisticRegression()\n",
    "    classifier.fit(X_train,y_train)\n",
    "    \n",
    "    return classifier"
   ]
  },
  {
   "cell_type": "code",
   "execution_count": null,
   "id": "c34747b2",
   "metadata": {},
   "outputs": [],
   "source": [
    "def predict_on_test_data(model,X_test):\n",
    "    y_pred = model.predict(X_test)\n",
    "    return y_pred"
   ]
  },
  {
   "cell_type": "code",
   "execution_count": null,
   "id": "2087986e",
   "metadata": {},
   "outputs": [],
   "source": [
    "def predict_prob_on_test_data(model,X_test):\n",
    "    y_pred = model.predict_proba(X_test)\n",
    "    return y_pred"
   ]
  },
  {
   "cell_type": "code",
   "execution_count": null,
   "id": "3ac32a7c",
   "metadata": {},
   "outputs": [],
   "source": [
    "def get_metrics(y_true, y_pred, y_pred_prob):\n",
    "    from sklearn.metrics import accuracy_score,precision_score,recall_score,log_loss\n",
    "    acc = accuracy_score(y_true, y_pred)\n",
    "    prec = precision_score(y_true, y_pred,average='micro')\n",
    "    recall = recall_score(y_true, y_pred,average='micro')\n",
    "    entropy = log_loss(y_true, y_pred_prob)\n",
    "    return {'accuracy': round(acc, 2), 'precision': round(prec, 2), 'recall': round(recall, 2), 'entropy': round(entropy, 2)}"
   ]
  },
  {
   "cell_type": "code",
   "execution_count": null,
   "id": "f767837c",
   "metadata": {},
   "outputs": [],
   "source": [
    "def create_roc_auc_plot(clf, X_data, y_data):\n",
    "    import matplotlib.pyplot as plt\n",
    "    from sklearn import metrics\n",
    "    metrics.RocCurveDisplay.from_estimator(clf, X_data, y_data)\n",
    "    plt.savefig('roc_auc_curve.png') "
   ]
  },
  {
   "cell_type": "code",
   "execution_count": null,
   "id": "83ae255b",
   "metadata": {},
   "outputs": [],
   "source": [
    "def create_confusion_matrix_plot(clf, X_test, y_test):\n",
    "    import matplotlib.pyplot as plt\n",
    "    from sklearn.metrics import ConfusionMatrixDisplay\n",
    "    ConfusionMatrixDisplay.from_estimator(clf, X_test, y_test)\n",
    "    plt.savefig('confusion_matrix.png')"
   ]
  },
  {
   "cell_type": "markdown",
   "id": "0b696d16",
   "metadata": {},
   "source": [
    "### Start calling above functions one by one and see the output"
   ]
  },
  {
   "cell_type": "markdown",
   "id": "bf35cdd5",
   "metadata": {},
   "source": [
    "**Data Loading**"
   ]
  },
  {
   "cell_type": "code",
   "execution_count": null,
   "id": "c828739b",
   "metadata": {},
   "outputs": [],
   "source": [
    "url = 'https://raw.githubusercontent.com/TripathiAshutosh/dataset/main/iris.csv'\n",
    "data = load_data(url)\n",
    "data.head()"
   ]
  },
  {
   "cell_type": "markdown",
   "id": "1c8c56ed",
   "metadata": {},
   "source": [
    "**Train-Test Split**"
   ]
  },
  {
   "cell_type": "code",
   "execution_count": null,
   "id": "31cc680a",
   "metadata": {},
   "outputs": [],
   "source": [
    "target_column = 'class'\n",
    "X_train, X_test, y_train, y_test = train_test_split(data, target_column)"
   ]
  },
  {
   "cell_type": "code",
   "execution_count": null,
   "id": "875b89a6",
   "metadata": {},
   "outputs": [],
   "source": [
    "X_test.head()"
   ]
  },
  {
   "cell_type": "markdown",
   "id": "4d214353",
   "metadata": {},
   "source": [
    "**Model Training** (Basic classifier, as here idea is not to create the best model however focus is on MLFlow model serving)"
   ]
  },
  {
   "cell_type": "code",
   "execution_count": null,
   "id": "503cd606",
   "metadata": {},
   "outputs": [],
   "source": [
    "model = training_basic_classifier(X_train,y_train)"
   ]
  },
  {
   "cell_type": "markdown",
   "id": "3b8ddc26",
   "metadata": {},
   "source": [
    "**See the prediction outcome**"
   ]
  },
  {
   "cell_type": "code",
   "execution_count": null,
   "id": "11b650dc",
   "metadata": {
    "scrolled": true
   },
   "outputs": [],
   "source": [
    "y_pred = predict_on_test_data(model,X_test)\n",
    "print(y_pred)\n",
    "y_pred_prob = predict_prob_on_test_data(model,X_test)\n",
    "print(y_pred_prob)"
   ]
  },
  {
   "cell_type": "markdown",
   "id": "8ac3d8ab",
   "metadata": {},
   "source": [
    "**print some metrics**"
   ]
  },
  {
   "cell_type": "code",
   "execution_count": null,
   "id": "12c013fa",
   "metadata": {},
   "outputs": [],
   "source": [
    "run_metrics = get_metrics(y_test, y_pred, y_pred_prob)"
   ]
  },
  {
   "cell_type": "code",
   "execution_count": null,
   "id": "472e4c77",
   "metadata": {},
   "outputs": [],
   "source": [
    "run_metrics"
   ]
  },
  {
   "cell_type": "markdown",
   "id": "034ad9f6",
   "metadata": {},
   "source": [
    "**Generate Confusion Matrix**"
   ]
  },
  {
   "cell_type": "code",
   "execution_count": null,
   "id": "90ca5866",
   "metadata": {},
   "outputs": [],
   "source": [
    "create_confusion_matrix_plot(model, X_test, y_test)"
   ]
  },
  {
   "cell_type": "markdown",
   "id": "6d82507c",
   "metadata": {},
   "source": [
    "### Define create_experiment function to track your model experiment within MLFlow"
   ]
  },
  {
   "cell_type": "code",
   "execution_count": null,
   "id": "ecf5d174",
   "metadata": {},
   "outputs": [],
   "source": [
    "def create_experiment(experiment_name,run_name, run_metrics,model, confusion_matrix_path = None, \n",
    "                      roc_auc_plot_path = None, run_params=None):\n",
    "    import mlflow\n",
    "    mlflow.set_tracking_uri(\"http://localhost:5000\") \n",
    "    #use above line if you want to use any database like sqlite as backend storage for model else comment this line\n",
    "    mlflow.set_experiment(experiment_name)\n",
    "    \n",
    "    with mlflow.start_run(run_name=run_name):\n",
    "        \n",
    "        if not run_params == None:\n",
    "            for param in run_params:\n",
    "                mlflow.log_param(param, run_params[param])\n",
    "            \n",
    "        for metric in run_metrics:\n",
    "            mlflow.log_metric(metric, run_metrics[metric])\n",
    "        \n",
    "        if not confusion_matrix_path == None:\n",
    "            mlflow.log_artifact(confusion_matrix_path, 'confusion_materix')\n",
    "            \n",
    "        if not roc_auc_plot_path == None:\n",
    "            mlflow.log_artifact(roc_auc_plot_path, \"roc_auc_plot\")\n",
    "        \n",
    "        mlflow.set_tag(\"tag1\", \"Iris Classifier\")\n",
    "        mlflow.set_tags({\"tag2\":\"Logistic Regression\", \"tag3\":\"Multiclassification using Ovr - One vs rest class\"})\n",
    "        mlflow.sklearn.log_model(model, \"model\")\n",
    "    print('Run - %s is logged to Experiment - %s' %(run_name, experiment_name))"
   ]
  },
  {
   "cell_type": "markdown",
   "id": "62d1f5ec",
   "metadata": {},
   "source": [
    "**Execute the create_experiment function and log experiment**"
   ]
  },
  {
   "cell_type": "code",
   "execution_count": null,
   "id": "41ed320e",
   "metadata": {},
   "outputs": [],
   "source": [
    "from datetime import datetime\n",
    "experiment_name = \"iris_classifier_\"+ str(datetime.now().strftime(\"%d-%m-%y\")) ##basic classifier\n",
    "run_name=\"iris_classifier_\"+str(datetime.now().strftime(\"%d-%m-%y\"))\n",
    "create_experiment(experiment_name,run_name,run_metrics,model,'confusion_matrix.png')"
   ]
  },
  {
   "cell_type": "code",
   "execution_count": null,
   "id": "35482d4f",
   "metadata": {},
   "outputs": [],
   "source": [
    "import mlflow\n",
    "logged_model = 'runs:/127d3cb7c403467ba2895f78db2e9f72/model'\n",
    "\n",
    "# Load model as a PyFuncModel.\n",
    "loaded_model = mlflow.pyfunc.load_model(logged_model)\n",
    "\n",
    "# Predict on a Pandas DataFrame.\n",
    "import pandas as pd\n",
    "loaded_model.predict(pd.DataFrame(X_test))"
   ]
  },
  {
   "cell_type": "markdown",
   "id": "8fdd29ef",
   "metadata": {},
   "source": [
    "**Open http://localhost:5000 in the browser, here you will find the recorded experiment**"
   ]
  },
  {
   "cell_type": "markdown",
   "id": "a81bd8e1",
   "metadata": {},
   "source": [
    "### Adding an MLflow Model to the Model Registry\n",
    "Reference: https://www.mlflow.org/docs/latest/model-registry.html\n",
    "\n",
    "There are three programmatic ways to add a model to the registry. \n",
    "First, you can use the mlflow.<model_flavor>.log_model() method. \n",
    "For example, in your code:"
   ]
  },
  {
   "cell_type": "markdown",
   "id": "9a42d321",
   "metadata": {},
   "source": [
    "#### Method 1"
   ]
  },
  {
   "cell_type": "code",
   "execution_count": null,
   "id": "68bb75a9",
   "metadata": {},
   "outputs": [],
   "source": [
    "def create_exp_and_register_model(experiment_name,run_name,run_metrics,model,confusion_matrix_path = None, \n",
    "                      roc_auc_plot_path = None, run_params=None):\n",
    "    mlflow.set_tracking_uri(\"http://localhost:5000\") \n",
    "    #use above line if you want to use any database like sqlite as backend storage for model else comment this line\n",
    "    mlflow.set_experiment(experiment_name)\n",
    "    with mlflow.start_run(run_name=run_name) as run:\n",
    "        if not run_params == None:\n",
    "            for param in run_params:\n",
    "                mlflow.log_param(param, run_params[param])\n",
    "            \n",
    "        for metric in run_metrics:\n",
    "            mlflow.log_metric(metric, run_metrics[metric])\n",
    "        \n",
    "        if not confusion_matrix_path == None:\n",
    "            mlflow.log_artifact(confusion_matrix_path, 'confusion_materix')\n",
    "            \n",
    "        if not roc_auc_plot_path == None:\n",
    "            mlflow.log_artifact(roc_auc_plot_path, \"roc_auc_plot\")\n",
    "        \n",
    "        mlflow.set_tag(\"tag1\", \"Random Forest\")\n",
    "        mlflow.set_tags({\"tag2\":\"Randomized Search CV\", \"tag3\":\"Production\"})\n",
    "        mlflow.sklearn.log_model(model, \"model\",registered_model_name=\"iris-classifier\")"
   ]
  },
  {
   "cell_type": "code",
   "execution_count": null,
   "id": "24ad6273",
   "metadata": {},
   "outputs": [],
   "source": [
    "experiment_name = \"iris_classifier_method-1\" #+ str(datetime.now().strftime(\"%d-%m-%y\")) ##basic classifier\n",
    "run_name=\"iris_classifier_method-1\" #+str(datetime.now().strftime(\"%d-%m-%y\"))\n",
    "create_exp_and_register_model(experiment_name,run_name,run_metrics,model,'confusion_matrix.png')"
   ]
  },
  {
   "cell_type": "code",
   "execution_count": null,
   "id": "3d0ebaec",
   "metadata": {},
   "outputs": [],
   "source": [
    "import mlflow\n",
    "with mlflow.start_run(run_name=run_name) as run:\n",
    "    result = mlflow.register_model(\n",
    "        \"runs:/127d3cb7c403467ba2895f78db2e9f72/model\",\n",
    "        \"iris-classifier-2\"\n",
    "    )"
   ]
  },
  {
   "cell_type": "code",
   "execution_count": null,
   "id": "31c47093",
   "metadata": {},
   "outputs": [],
   "source": [
    "import mlflow\n",
    "client = mlflow.tracking.MlflowClient()\n",
    "client.create_registered_model(\"basic-classifier-method-4\")\n",
    "#While the method above creates an empty registered model with no version associated"
   ]
  },
  {
   "cell_type": "code",
   "execution_count": null,
   "id": "d1f8f979",
   "metadata": {},
   "outputs": [],
   "source": [
    "#the method below creates a new version of the model.\n",
    "from mlflow.tracking.client import MlflowClient\n",
    "client = MlflowClient() \n",
    "result = client.create_model_version(\n",
    "    name=\"basic-classifier-method-3\",\n",
    "    source=\"runs:/127d3cb7c403467ba2895f78db2e9f72/model\",\n",
    "    run_id=\"127d3cb7c403467ba2895f78db2e9f72\"\n",
    ")"
   ]
  },
  {
   "cell_type": "code",
   "execution_count": null,
   "id": "a9032612",
   "metadata": {
    "scrolled": true
   },
   "outputs": [],
   "source": [
    "import mlflow.pyfunc\n",
    "\n",
    "model_name = \"iris-classifier\"\n",
    "model_version = 1\n",
    "\n",
    "model = mlflow.pyfunc.load_model(\n",
    "    model_uri=f\"models:/{model_name}/{model_version}\"\n",
    ")\n",
    "\n",
    "y_pred = model.predict(X_test)\n",
    "print(y_pred)\n",
    "\n",
    "sklearn_model = mlflow.sklearn.load_model(\n",
    "    model_uri=f\"models:/{model_name}/{model_version}\"\n",
    ")\n",
    "y_pred_prob = sklearn_model.predict_proba(X_test)\n",
    "print(y_pred_prob)"
   ]
  },
  {
   "cell_type": "markdown",
   "id": "d498465d",
   "metadata": {},
   "source": [
    "**Fetch the latest model version in a specific stage**\n",
    "\n",
    "To fetch a model version by stage, simply provide the model stage as part of the model URI, and it will fetch the most recent version of the model in that stage."
   ]
  },
  {
   "cell_type": "markdown",
   "id": "f66a1fbf",
   "metadata": {},
   "source": [
    "#### Transitioning an MLflow Model’s Stage"
   ]
  },
  {
   "cell_type": "code",
   "execution_count": null,
   "id": "36d41ae0",
   "metadata": {
    "scrolled": true
   },
   "outputs": [],
   "source": [
    "client = mlflow.tracking.MlflowClient()\n",
    "client.transition_model_version_stage(\n",
    "    name=\"iris-classifier\",\n",
    "    version=1,\n",
    "    stage=\"Production\"\n",
    ")"
   ]
  },
  {
   "cell_type": "code",
   "execution_count": null,
   "id": "5bf497b2",
   "metadata": {},
   "outputs": [],
   "source": [
    "import mlflow.pyfunc\n",
    "\n",
    "model_name = \"iris-classifier\"\n",
    "stage = 'Production'\n",
    "\n",
    "model = mlflow.pyfunc.load_model(\n",
    "    model_uri=f\"models:/{model_name}/{stage}\"\n",
    ")\n",
    "print(f\"models:/{model_name}/{stage}\")\n",
    "y_pred = model.predict(X_test)\n",
    "print(y_pred)"
   ]
  },
  {
   "cell_type": "code",
   "execution_count": null,
   "id": "2a4d1f43",
   "metadata": {},
   "outputs": [],
   "source": [
    "import mlflow.pyfunc\n",
    "\n",
    "model_name = \"iris-classifier\"\n",
    "stage = 'Production'\n",
    "\n",
    "model = mlflow.sklearn.load_model(\n",
    "    model_uri=f\"models:/{model_name}/{stage}\"\n",
    ")\n",
    "\n",
    "y_pred = model.predict([[6.7,3.3,5.7,2.1]])\n",
    "print(y_pred)\n",
    "y_pred_prob = model.predict_proba([[6.7,3.3,5.7,2.1]])\n",
    "print(y_pred_prob)"
   ]
  },
  {
   "cell_type": "markdown",
   "id": "4b462895",
   "metadata": {},
   "source": [
    "### Serving an MLflow Model from Model Registry"
   ]
  },
  {
   "cell_type": "code",
   "execution_count": null,
   "id": "91eb4ade",
   "metadata": {},
   "outputs": [],
   "source": [
    "mlflow.set_tracking_uri('http://localhost:5000')"
   ]
  },
  {
   "cell_type": "markdown",
   "id": "e26a7809",
   "metadata": {},
   "source": [
    "**Run this from command line**\n",
    "`set MLFLOW_TRACKING_URI=http://localhost:5000` #use export MLFLOW_TRACKING_URI=http://localhost:5000 if in linux"
   ]
  },
  {
   "cell_type": "markdown",
   "id": "37e7f1a2",
   "metadata": {},
   "source": [
    "<img src='env variable.png'>"
   ]
  },
  {
   "cell_type": "markdown",
   "id": "8034a2ff",
   "metadata": {},
   "source": [
    "## **Now run this command from command line**\n",
    "\n",
    "make sure to write the different port - other than the one you used while starting mlflow server\n",
    "\n",
    "`mlflow models serve --model-uri models:/iris-classifier/Production -p 1234 --no-conda`\n",
    "\n"
   ]
  },
  {
   "cell_type": "markdown",
   "id": "ce3d00cb",
   "metadata": {},
   "source": [
    "### Do Prediction"
   ]
  },
  {
   "cell_type": "code",
   "execution_count": null,
   "id": "a745b565",
   "metadata": {},
   "outputs": [],
   "source": [
    "import requests\n",
    "\n",
    "inference_request = {\n",
    "        \"dataframe_records\": [[67,33,5.7,2.1]]\n",
    "}\n",
    "\n",
    "endpoint = \"http://localhost:1234/invocations\"\n",
    "\n",
    "response = requests.post(endpoint, json=inference_request)\n",
    "\n",
    "print(response.text)"
   ]
  },
  {
   "cell_type": "markdown",
   "id": "9561d908",
   "metadata": {},
   "source": [
    "### Batch Prediction"
   ]
  },
  {
   "cell_type": "code",
   "execution_count": null,
   "id": "5e447c4b",
   "metadata": {
    "scrolled": true
   },
   "outputs": [],
   "source": [
    "X_test"
   ]
  },
  {
   "cell_type": "code",
   "execution_count": 34,
   "id": "ce7002b4",
   "metadata": {},
   "outputs": [
    {
     "name": "stdout",
     "output_type": "stream",
     "text": [
      "<Response [200]>\n"
     ]
    }
   ],
   "source": [
    "import requests\n",
    "lst = X_test.values.tolist()\n",
    "inference_request = {\n",
    "        \"dataframe_records\": lst\n",
    "}\n",
    "endpoint = \"http://localhost:1234/invocations\"\n",
    "response = requests.post(endpoint, json=inference_request)\n",
    "print(response)"
   ]
  },
  {
   "cell_type": "code",
   "execution_count": 35,
   "id": "7a925371",
   "metadata": {},
   "outputs": [
    {
     "name": "stdout",
     "output_type": "stream",
     "text": [
      "{\"predictions\": [\"Iris-setosa\", \"Iris-setosa\", \"Iris-setosa\", \"Iris-setosa\", \"Iris-virginica\", \"Iris-virginica\", \"Iris-versicolor\", \"Iris-virginica\", \"Iris-versicolor\", \"Iris-versicolor\", \"Iris-virginica\", \"Iris-versicolor\", \"Iris-virginica\", \"Iris-setosa\", \"Iris-setosa\", \"Iris-virginica\", \"Iris-setosa\", \"Iris-versicolor\", \"Iris-versicolor\", \"Iris-versicolor\", \"Iris-versicolor\", \"Iris-virginica\", \"Iris-virginica\", \"Iris-setosa\", \"Iris-setosa\", \"Iris-virginica\", \"Iris-versicolor\", \"Iris-setosa\", \"Iris-versicolor\", \"Iris-virginica\", \"Iris-setosa\", \"Iris-virginica\", \"Iris-setosa\", \"Iris-setosa\", \"Iris-setosa\", \"Iris-setosa\", \"Iris-virginica\", \"Iris-virginica\", \"Iris-virginica\", \"Iris-versicolor\", \"Iris-versicolor\", \"Iris-virginica\", \"Iris-virginica\", \"Iris-versicolor\", \"Iris-versicolor\"]}\n"
     ]
    }
   ],
   "source": [
    "print(response.text)"
   ]
  }
 ],
 "metadata": {
  "kernelspec": {
   "display_name": "mlflowenv",
   "language": "python",
   "name": "python3"
  },
  "language_info": {
   "codemirror_mode": {
    "name": "ipython",
    "version": 3
   },
   "file_extension": ".py",
   "mimetype": "text/x-python",
   "name": "python",
   "nbconvert_exporter": "python",
   "pygments_lexer": "ipython3",
   "version": "3.9.2"
  }
 },
 "nbformat": 4,
 "nbformat_minor": 5
}
